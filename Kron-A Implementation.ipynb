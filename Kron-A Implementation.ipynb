{
 "cells": [
  {
   "cell_type": "markdown",
   "metadata": {},
   "source": [
    "T5-LoRA Implementation (GLUE, SST2)"
   ]
  },
  {
   "cell_type": "code",
   "execution_count": 17,
   "metadata": {},
   "outputs": [],
   "source": [
    "# Loading Pre Trained Model\n",
    "from transformers import AutoModelForSeq2SeqLM, AutoTokenizer\n",
    "\n",
    "model_name = \"t5-small\"\n",
    "\n",
    "tokenizer = AutoTokenizer.from_pretrained(model_name)\n",
    "model = AutoModelForSeq2SeqLM.from_pretrained(model_name)"
   ]
  },
  {
   "cell_type": "code",
   "execution_count": 18,
   "metadata": {},
   "outputs": [],
   "source": [
    "# Loading Dataset\n",
    "from datasets import load_dataset\n",
    "\n",
    "dataset = load_dataset(\"glue\", \"sst2\")"
   ]
  },
  {
   "cell_type": "code",
   "execution_count": 19,
   "metadata": {},
   "outputs": [],
   "source": [
    "# Data Preprocessing\n",
    "\n",
    "def preproc(record):\n",
    "    inputs = [\"sst2 sentence\"+ sentence for sentence in record[\"sentence\"]]\n",
    "    labels =  [\"positive \" if label == 1 else \"negative\" for label in record[\"label\"]]\n",
    "    return {\"input_text\": inputs, \"target_text\": labels}\n",
    "\n",
    "dataset = dataset.map(preproc, batched= True)"
   ]
  },
  {
   "cell_type": "code",
   "execution_count": 20,
   "metadata": {},
   "outputs": [
    {
     "name": "stdout",
     "output_type": "stream",
     "text": [
      "trainable params: 294,912 || all params: 60,801,536 || trainable%: 0.4850\n"
     ]
    }
   ],
   "source": [
    "# Applying LoRA to T5\n",
    "from peft import LoraConfig, get_peft_model\n",
    "\n",
    "lora_confg = LoraConfig(\n",
    "    r=8,\n",
    "    lora_alpha=32,\n",
    "    lora_dropout=0.1,\n",
    "    target_modules= [\"q\", \"v\"],)\n",
    "\n",
    "model = get_peft_model(model, lora_confg)\n",
    "model.print_trainable_parameters()"
   ]
  },
  {
   "cell_type": "code",
   "execution_count": 21,
   "metadata": {},
   "outputs": [
    {
     "name": "stderr",
     "output_type": "stream",
     "text": [
      "Map: 100%|██████████| 67349/67349 [00:06<00:00, 10417.67 examples/s]\n",
      "Map: 100%|██████████| 872/872 [00:00<00:00, 8740.91 examples/s]\n",
      "Map: 100%|██████████| 1821/1821 [00:00<00:00, 10875.98 examples/s]\n",
      "/tmp/ipykernel_47234/3733164756.py:26: FutureWarning: `tokenizer` is deprecated and will be removed in version 5.0.0 for `Seq2SeqTrainer.__init__`. Use `processing_class` instead.\n",
      "  trainer = Seq2SeqTrainer(\n",
      "No label_names provided for model class `PeftModel`. Since `PeftModel` hides base models input arguments, if label_names is not given, label_names can't be set automatically within `Trainer`. Note that empty label_names list will be used instead.\n"
     ]
    },
    {
     "data": {
      "text/html": [
       "\n",
       "    <div>\n",
       "      \n",
       "      <progress value='25257' max='25257' style='width:300px; height:20px; vertical-align: middle;'></progress>\n",
       "      [25257/25257 41:30, Epoch 3/3]\n",
       "    </div>\n",
       "    <table border=\"1\" class=\"dataframe\">\n",
       "  <thead>\n",
       " <tr style=\"text-align: left;\">\n",
       "      <th>Epoch</th>\n",
       "      <th>Training Loss</th>\n",
       "      <th>Validation Loss</th>\n",
       "    </tr>\n",
       "  </thead>\n",
       "  <tbody>\n",
       "    <tr>\n",
       "      <td>1</td>\n",
       "      <td>0.056700</td>\n",
       "      <td>No log</td>\n",
       "    </tr>\n",
       "    <tr>\n",
       "      <td>2</td>\n",
       "      <td>0.059200</td>\n",
       "      <td>No log</td>\n",
       "    </tr>\n",
       "    <tr>\n",
       "      <td>3</td>\n",
       "      <td>0.055500</td>\n",
       "      <td>No log</td>\n",
       "    </tr>\n",
       "  </tbody>\n",
       "</table><p>"
      ],
      "text/plain": [
       "<IPython.core.display.HTML object>"
      ]
     },
     "metadata": {},
     "output_type": "display_data"
    },
    {
     "data": {
      "text/plain": [
       "TrainOutput(global_step=25257, training_loss=0.12646112741443982, metrics={'train_runtime': 2490.9708, 'train_samples_per_second': 81.112, 'train_steps_per_second': 10.139, 'total_flos': 6882113353678848.0, 'train_loss': 0.12646112741443982, 'epoch': 3.0})"
      ]
     },
     "execution_count": 21,
     "metadata": {},
     "output_type": "execute_result"
    }
   ],
   "source": [
    "from transformers import Seq2SeqTrainer, Seq2SeqTrainingArguments\n",
    "\n",
    "def tokenize_function(record):\n",
    "    model_inputs = tokenizer(record[\"input_text\"], padding=\"max_length\", truncation=True, max_length=128)\n",
    "    labels = tokenizer(record[\"target_text\"], padding=\"max_length\", truncation=True, max_length=5)\n",
    "\n",
    "    model_inputs[\"labels\"] = labels[\"input_ids\"]\n",
    "    return model_inputs\n",
    "\n",
    "toke_dataset = dataset.map(tokenize_function, batched=True)\n",
    "toke_dataset.set_format(type=\"torch\", columns=[\"input_ids\", \"attention_mask\", \"labels\"])\n",
    "\n",
    "training_args = Seq2SeqTrainingArguments(\n",
    "    output_dir=\"./t5_lora_sst2\",\n",
    "    eval_strategy=\"epoch\",\n",
    "    save_strategy=\"epoch\",\n",
    "    per_device_train_batch_size=8,\n",
    "    per_device_eval_batch_size=8,\n",
    "    num_train_epochs=3,\n",
    "    weight_decay=0.01,\n",
    "    logging_dir=\"./logs\",\n",
    "    report_to=\"none\",\n",
    ")\n",
    "\n",
    "# Creating Trainer\n",
    "trainer = Seq2SeqTrainer(\n",
    "    model=model,\n",
    "    args=training_args,\n",
    "    train_dataset=toke_dataset[\"train\"],\n",
    "    eval_dataset=toke_dataset[\"validation\"],\n",
    "    tokenizer=tokenizer,\n",
    ")\n",
    "\n",
    "# Start training\n",
    "trainer.train()"
   ]
  },
  {
   "cell_type": "code",
   "execution_count": 22,
   "metadata": {},
   "outputs": [
    {
     "data": {
      "text/html": [
       "\n",
       "    <div>\n",
       "      \n",
       "      <progress value='218' max='109' style='width:300px; height:20px; vertical-align: middle;'></progress>\n",
       "      [109/109 00:07]\n",
       "    </div>\n",
       "    "
      ],
      "text/plain": [
       "<IPython.core.display.HTML object>"
      ]
     },
     "metadata": {},
     "output_type": "display_data"
    },
    {
     "name": "stdout",
     "output_type": "stream",
     "text": [
      "{'eval_runtime': 3.5538, 'eval_samples_per_second': 245.374, 'eval_steps_per_second': 30.672, 'epoch': 3.0}\n"
     ]
    }
   ],
   "source": [
    "# Evaluating the model on the validation set\n",
    "eval_results = trainer.evaluate()\n",
    "\n",
    "# Print evaluation results\n",
    "print(eval_results)"
   ]
  },
  {
   "cell_type": "code",
   "execution_count": 23,
   "metadata": {},
   "outputs": [
    {
     "name": "stdout",
     "output_type": "stream",
     "text": [
      "Eval Loss: Loss not computed\n"
     ]
    }
   ],
   "source": [
    "eval_results = trainer.evaluate()\n",
    "print(f\"Eval Loss: {eval_results.get('eval_loss', 'Loss not computed')}\")\n"
   ]
  },
  {
   "cell_type": "code",
   "execution_count": 24,
   "metadata": {},
   "outputs": [
    {
     "name": "stdout",
     "output_type": "stream",
     "text": [
      "Manually Computed Eval Loss: 0.05340239079989527\n"
     ]
    }
   ],
   "source": [
    "import torch\n",
    "\n",
    "total_loss = 0\n",
    "num_batches = 0\n",
    "\n",
    "for batch in trainer.get_eval_dataloader():\n",
    "    with torch.no_grad():\n",
    "        outputs = model(**{k: v.to(model.device) for k, v in batch.items()})\n",
    "        total_loss += outputs.loss.item()\n",
    "        num_batches += 1\n",
    "\n",
    "eval_loss = total_loss / num_batches \n",
    "print(f\"Manually Computed Eval Loss: {eval_loss}\")"
   ]
  },
  {
   "cell_type": "markdown",
   "metadata": {},
   "source": [
    " Manual KronA Implementation"
   ]
  },
  {
   "cell_type": "code",
   "execution_count": 25,
   "metadata": {},
   "outputs": [],
   "source": [
    "# Custom KronA layer\n",
    "import torch\n",
    "import torch.nn as nn\n",
    "\n",
    "class KronA(nn.Module):\n",
    "    def __init__(self, in_features, out_features, rank):\n",
    "        super(KronA, self).__init__()\n",
    "        self.rank = rank\n",
    "        self.in_feat = in_features\n",
    "        self.out_feat = out_features\n",
    "\n",
    "        self.A_matr = nn.parameter(torch.randn(rank, in_features))\n",
    "        self.B_matr = nn.parameter(torch.randn(rank, out_features))\n",
    "\n",
    "    def forward(self, x):\n",
    "        Prod_Kron = torch.kron(self.A_matr, self.B_matr)\n",
    "\n",
    "        return torch.matmul(x, Prod_Kron)\n",
    "\n"
   ]
  },
  {
   "cell_type": "code",
   "execution_count": 26,
   "metadata": {},
   "outputs": [],
   "source": [
    "# Modifying T5 layers to use KronA\n",
    "\n",
    "from transformers import T5ForConditionalGeneration, T5Config\n",
    "import torch\n",
    "import torch.nn as nn\n",
    "from transformers.models.t5.modeling_t5 import T5Attention, T5DenseActDense\n",
    "\n",
    "class KronA_T5Attention(nn.Module):\n",
    "    def __init__(self, config, rank):\n",
    "        super(KronA_T5Attention, self).__init__()\n",
    "        self.self_attention = T5Attention(config)\n",
    "        self.rank = rank\n",
    "\n",
    "        self.query = KronA(config.d_model, config.d_model, rank)\n",
    "        self.key = KronA(config.d_model, config.d_model, rank)\n",
    "        self.value = KronA(config.d_model, config.d_model, rank)\n",
    "        self.o = KronA(config.d_model, config.d_model, rank)\n",
    "\n",
    "    def forward(self, hidden_states, attention_mask = None):\n",
    "        query = self.query(hidden_states)\n",
    "        key = self.query(hidden_states)\n",
    "        value = self.query(hidden_states)\n",
    "\n",
    "        attention_output = self.self_attention(query, key, value, attention_mask)\n",
    "        output = self.o(attention_output)\n",
    "        return output \n",
    "\n",
    "class KronA_T5DenseReluDense(nn.Module):\n",
    "    def __init__(self, config, rank):\n",
    "        super().__init__(KronA_T5DenseReluDense, self).__init__()\n",
    "        self.dense_1 = KronA(config.d_model, config.d_ff, rank)\n",
    "        self.dense_2 = KronA(config.d_ff, config.d_model, rank)\n",
    "        self.dropout = nn.Dropout(config.dropout_rate)\n",
    "        self.activation = nn.GELU()\n",
    "\n",
    "    def forward(self, hidden_states):\n",
    "        hidden_states = self.dense_1(hidden_states)\n",
    "        hidden_states = self.activation(hidden_states)\n",
    "        hidden_states = self.dense_2(hidden_states)\n",
    "        hidden_states = self.dropout(hidden_states)\n",
    "        return hidden_states\n",
    "    \n",
    "class KronA_T5ForConditionalGeneration(T5ForConditionalGeneration):\n",
    "    def __init__(self, config, rank=16):\n",
    "        super(KronA_T5ForConditionalGeneration, self).__init__(config)\n",
    "\n",
    "        self.encoder.block = nn.ModuleList([KronA_T5Attention(config, rank) if isinstance(layer, T5Attention) else layer for layer in self.encoder.block])    \n",
    "        self.decoder.block = nn.ModuleList([KronA_T5Attention(config, rank) if isinstance(layer, T5Attention) else layer for layer in self.decoder.block])\n",
    "        self.encoder.block = nn.ModuleList([KronA_T5DenseReluDense(config, rank) if isinstance(layer, T5DenseActDense) else layer for layer in self.encoder.block ])\n",
    "        self.decoder.block = nn.ModuleList([KronA_T5DenseReluDense(config, rank) if isinstance(layer, T5DenseActDense) else layer for layer in self.decoder.block])\n",
    "\n",
    "        "
   ]
  },
  {
   "cell_type": "code",
   "execution_count": 30,
   "metadata": {},
   "outputs": [
    {
     "name": "stdout",
     "output_type": "stream",
     "text": [
      "Unique labels in dataset: {0, 1}\n"
     ]
    },
    {
     "name": "stderr",
     "output_type": "stream",
     "text": [
      "/home/sameer-malik/Torch/lib/python3.12/site-packages/transformers/training_args.py:1594: FutureWarning: `evaluation_strategy` is deprecated and will be removed in version 4.46 of 🤗 Transformers. Use `eval_strategy` instead\n",
      "  warnings.warn(\n",
      "/tmp/ipykernel_47234/1067872316.py:68: FutureWarning: `tokenizer` is deprecated and will be removed in version 5.0.0 for `Trainer.__init__`. Use `processing_class` instead.\n",
      "  trainer = Trainer(\n"
     ]
    },
    {
     "data": {
      "text/html": [
       "\n",
       "    <div>\n",
       "      \n",
       "      <progress value='25257' max='25257' style='width:300px; height:20px; vertical-align: middle;'></progress>\n",
       "      [25257/25257 40:06, Epoch 3/3]\n",
       "    </div>\n",
       "    <table border=\"1\" class=\"dataframe\">\n",
       "  <thead>\n",
       " <tr style=\"text-align: left;\">\n",
       "      <th>Epoch</th>\n",
       "      <th>Training Loss</th>\n",
       "      <th>Validation Loss</th>\n",
       "    </tr>\n",
       "  </thead>\n",
       "  <tbody>\n",
       "    <tr>\n",
       "      <td>1</td>\n",
       "      <td>0.213200</td>\n",
       "      <td>0.260885</td>\n",
       "    </tr>\n",
       "    <tr>\n",
       "      <td>2</td>\n",
       "      <td>0.171400</td>\n",
       "      <td>0.333046</td>\n",
       "    </tr>\n",
       "    <tr>\n",
       "      <td>3</td>\n",
       "      <td>0.154600</td>\n",
       "      <td>0.406478</td>\n",
       "    </tr>\n",
       "  </tbody>\n",
       "</table><p>"
      ],
      "text/plain": [
       "<IPython.core.display.HTML object>"
      ]
     },
     "metadata": {},
     "output_type": "display_data"
    },
    {
     "data": {
      "text/plain": [
       "TrainOutput(global_step=25257, training_loss=0.20243810226332287, metrics={'train_runtime': 2406.8538, 'train_samples_per_second': 83.947, 'train_steps_per_second': 10.494, 'total_flos': 6836351240503296.0, 'train_loss': 0.20243810226332287, 'epoch': 3.0})"
      ]
     },
     "execution_count": 30,
     "metadata": {},
     "output_type": "execute_result"
    }
   ],
   "source": [
    "# Load Dataset SST-2\n",
    "from datasets import load_dataset\n",
    "from transformers import T5Tokenizer\n",
    "\n",
    "# Load dataset\n",
    "dataset = load_dataset(\"glue\", \"sst2\")\n",
    "\n",
    "# Load tokenizer\n",
    "tokenizer = T5Tokenizer.from_pretrained(\"t5-small\")\n",
    "\n",
    "# Define label mapping for SST-2\n",
    "label_map = {0: \"negative\", 1: \"positive\"}\n",
    "\n",
    "# Debug: Check label distribution\n",
    "print(\"Unique labels in dataset:\", set(dataset[\"train\"][\"label\"]))\n",
    "\n",
    "def preprocess_function(examples):\n",
    "    inputs = [f\"sst2 sentence: {sentence}\" for sentence in examples[\"sentence\"]]\n",
    "    model_inputs = tokenizer(inputs, padding=\"max_length\", truncation=True, max_length=128)\n",
    "\n",
    "    # Handle unknown labels safely\n",
    "    labels = []\n",
    "    for label in examples[\"label\"]:\n",
    "        if label in label_map:\n",
    "            labels.append(label_map[label])\n",
    "        else:\n",
    "            print(f\"Warning: Unexpected label {label} encountered. Assigning 'unknown'.\")\n",
    "            labels.append(\"unknown\")  # Change this if you want to handle it differently.\n",
    "\n",
    "    # Tokenize labels as targets\n",
    "    with tokenizer.as_target_tokenizer():\n",
    "        labels = tokenizer(labels, padding=\"max_length\", truncation=True, max_length=2)\n",
    "\n",
    "    model_inputs[\"labels\"] = labels[\"input_ids\"]\n",
    "    return model_inputs\n",
    "\n",
    "# Apply preprocessing\n",
    "encoded_dataset = dataset.map(preprocess_function, batched=True)\n",
    "\n",
    "# Convert to PyTorch format\n",
    "encoded_dataset.set_format(type=\"torch\", columns=[\"input_ids\", \"attention_mask\", \"labels\"])\n",
    "\n",
    "# Split into train and validation sets\n",
    "train_dataset = encoded_dataset[\"train\"]\n",
    "val_dataset = encoded_dataset[\"validation\"]\n",
    "\n",
    "# Load KronA-T5 Model\n",
    "from transformers import Trainer, TrainingArguments\n",
    "from sklearn.metrics import accuracy_score\n",
    "\n",
    "config = T5Config.from_pretrained(\"t5-small\")\n",
    "krona_t5 = KronA_T5ForConditionalGeneration(config, rank=16)\n",
    "\n",
    "# Training Arguments\n",
    "training_args = TrainingArguments(\n",
    "    output_dir=\"./results\",\n",
    "    evaluation_strategy=\"epoch\",\n",
    "    save_strategy=\"epoch\",\n",
    "    learning_rate=2e-5,\n",
    "    per_device_train_batch_size=8,\n",
    "    per_device_eval_batch_size=8,\n",
    "    num_train_epochs=3,\n",
    "    weight_decay=0.01,\n",
    "    logging_dir=\"./logs\",   \n",
    ")\n",
    "\n",
    "# Trainer\n",
    "trainer = Trainer(\n",
    "    model=krona_t5,\n",
    "    args=training_args,\n",
    "    train_dataset=train_dataset,\n",
    "    eval_dataset=val_dataset,\n",
    "    tokenizer=tokenizer\n",
    ")\n",
    "\n",
    "trainer.train()\n"
   ]
  },
  {
   "cell_type": "code",
   "execution_count": 31,
   "metadata": {},
   "outputs": [
    {
     "data": {
      "text/html": [
       "\n",
       "    <div>\n",
       "      \n",
       "      <progress value='109' max='109' style='width:300px; height:20px; vertical-align: middle;'></progress>\n",
       "      [109/109 00:02]\n",
       "    </div>\n",
       "    "
      ],
      "text/plain": [
       "<IPython.core.display.HTML object>"
      ]
     },
     "metadata": {},
     "output_type": "display_data"
    },
    {
     "name": "stdout",
     "output_type": "stream",
     "text": [
      "Validation Results: {'eval_loss': 0.40647807717323303, 'eval_runtime': 2.7182, 'eval_samples_per_second': 320.8, 'eval_steps_per_second': 40.1, 'epoch': 3.0}\n"
     ]
    }
   ],
   "source": [
    "# Evaluate the fine-tuned model\n",
    "results1 = trainer.evaluate()\n",
    "print(\"Validation Results:\", results1)\n"
   ]
  },
  {
   "cell_type": "code",
   "execution_count": 32,
   "metadata": {},
   "outputs": [],
   "source": [
    "# Save the fine-tuned model\n",
    "krona_t5.save_pretrained(\"./krona_t5_sst2\")\n"
   ]
  }
 ],
 "metadata": {
  "kernelspec": {
   "display_name": "Torch",
   "language": "python",
   "name": "python3"
  },
  "language_info": {
   "codemirror_mode": {
    "name": "ipython",
    "version": 3
   },
   "file_extension": ".py",
   "mimetype": "text/x-python",
   "name": "python",
   "nbconvert_exporter": "python",
   "pygments_lexer": "ipython3",
   "version": "3.12.3"
  }
 },
 "nbformat": 4,
 "nbformat_minor": 2
}
